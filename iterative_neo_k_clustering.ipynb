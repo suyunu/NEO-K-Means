{
 "cells": [
  {
   "cell_type": "markdown",
   "metadata": {},
   "source": [
    "## Iterative Algorithm for Neo-K-Means\n"
   ]
  },
  {
   "cell_type": "code",
   "execution_count": 8,
   "metadata": {},
   "outputs": [],
   "source": [
    "import numpy as np\n",
    "import pandas as pd\n",
    "import matplotlib.pyplot as plt\n",
    "import random\n",
    "import seaborn as sns\n",
    "from sklearn.cluster import KMeans\n",
    "from scipy.io import loadmat\n",
    "from sklearn.metrics import f1_score # https://scikit-learn.org/stable/modules/generated/sklearn.metrics.f1_score.html\n",
    "from sklearn.metrics.cluster import normalized_mutual_info_score # https://scikit-learn.org/stable/modules/generated/sklearn.metrics.normalized_mutual_info_score.html\n",
    "from sklearn.decomposition import PCA\n",
    "from numpy.random import choice\n",
    "from numpy.random import seed"
   ]
  },
  {
   "cell_type": "markdown",
   "metadata": {},
   "source": [
    "## K-Means++"
   ]
  },
  {
   "cell_type": "code",
   "execution_count": 114,
   "metadata": {},
   "outputs": [],
   "source": [
    "def plot(data, centroids):\n",
    "    plt.scatter(data[:, 0], data[:, 1], marker = '.',  \n",
    "                color = 'gray', label = 'data points') \n",
    "    plt.scatter(centroids[:-1, 0], centroids[:-1, 1],  \n",
    "                color = 'black', label = 'previously selected centroids') \n",
    "    plt.scatter(centroids[-1, 0], centroids[-1, 1],  \n",
    "                color = 'red', label = 'next centroid') \n",
    "    plt.title('Select % d th centroid'%(centroids.shape[0])) \n",
    "    \n",
    "    minlim = min(np.min(data[:, 0]), np.min(data[:, 1])) *1.1\n",
    "    maxlim = max(np.max(data[:, 0]), np.max(data[:, 1])) *1.1\n",
    "    \n",
    "    plt.xlim(minlim, maxlim)\n",
    "    plt.ylim(minlim, maxlim)\n",
    "    plt.legend() \n",
    "    plt.show() \n",
    "\n",
    "def initialize_kmeanspp(data, k, norm_p):\n",
    "    ''' \n",
    "    initialize the centroids according to K-means++ \n",
    "    inputs: \n",
    "        data - numpy array of data points (input, features)\n",
    "        k - number of clusters\n",
    "        norm_p - order for L norm\n",
    "    '''\n",
    "    ## initialize the centroids list and add \n",
    "    ## a randomly selected data point to the list \n",
    "    centroids = [] \n",
    "    centroids.append(data[np.random.randint(data.shape[0]), :])\n",
    "    #plot(data, np.array(centroids)) \n",
    "\n",
    "    ## compute remaining k - 1 centroids \n",
    "    for c_id in range(k - 1): \n",
    "        ## initialize a list to store distances of data \n",
    "        ## points from nearest centroid \n",
    "        dist = [] \n",
    "        for point in data:\n",
    "            dist.append(min(np.linalg.norm(point-centroids, ord=norm_p, axis=1)))\n",
    "\n",
    "        ## select data point with maximum distance as our next centroid \n",
    "        dist = np.array(dist)**2\n",
    "        next_centroid = data[np.random.choice(len(dist), p=dist/np.sum(dist))]\n",
    "        #next_centroid = data[np.argmax(dist), :] \n",
    "        centroids.append(next_centroid)\n",
    "    #plot(data, np.array(centroids))\n",
    "    return np.array(centroids) "
   ]
  },
  {
   "cell_type": "markdown",
   "metadata": {},
   "source": [
    "### Datasets"
   ]
  },
  {
   "cell_type": "markdown",
   "metadata": {},
   "source": [
    "* emotions (music)\n",
    "* yeast\n",
    "* scene"
   ]
  },
  {
   "cell_type": "code",
   "execution_count": 218,
   "metadata": {},
   "outputs": [],
   "source": [
    "dataset = 'emotions'\n",
    "with open(\"datasets/\" + dataset + \"/\" + dataset + \".xml\", 'r') as f:\n",
    "    labels = [l.split(\"\\\"\")[1] for l in f.readlines() if l.startswith(\"<label name=\")]\n",
    "\n",
    "with open(\"datasets/\" + dataset + \"/\" + dataset + \".arff\", 'r') as f:\n",
    "    data = f.readlines()\n",
    "    data = data[data.index('@data\\n')+1:]\n",
    "    data = np.array([np.array(list(map(float, d.split(',')))) for d in data])\n",
    "    data_x = data[:, :-len(labels)]\n",
    "    data_y = data[:, -len(labels):].astype(int)"
   ]
  },
  {
   "cell_type": "markdown",
   "metadata": {},
   "source": [
    "* yahoo image\n",
    "  * vision 1: \"Wood\", \"Glass\"\n",
    "  * vision 2: \"Nose\", \"Hair\", \"Arm\", \"Foot/Shoe\", \"Metal\", \"Furry\"\n",
    "  * vision 3: \"Mouth\", \"Face\", \"Nose\", \"Hair\", \"Wood\", \"Glass\", \"Horn\""
   ]
  },
  {
   "cell_type": "code",
   "execution_count": 3,
   "metadata": {},
   "outputs": [],
   "source": [
    "data_x_all = np.array(loadmat('datasets/image_dataset/attribute_features/feat_ayahoo_test.mat')['feat'].T.todense())\n",
    "with open(\"datasets/image_dataset/attribute_data/ayahoo_test.txt\", 'r') as f:\n",
    "    ff = f.readlines()\n",
    "    data_y_all = np.array([l.split()[6:] for l in ff]).astype(int)\n",
    "    data_info_all = np.array([l.split()[:6] for l in ff])\n",
    "with open(\"datasets/image_dataset/attribute_data/attribute_names.txt\", 'r') as f:\n",
    "    labels_all = [l.strip() for l in f.readlines()]"
   ]
  },
  {
   "cell_type": "code",
   "execution_count": 4,
   "metadata": {},
   "outputs": [],
   "source": [
    "labels = [\"Wood\", \"Glass\"] # vision 1\n",
    "#labels = [\"Nose\", \"Hair\", \"Arm\", \"Foot/Shoe\", \"Metal\", \"Furry\"] # vision 2\n",
    "#labels = [\"Mouth\", \"Face\", \"Nose\", \"Hair\", \"Wood\", \"Glass\", \"Horn\"] # vision 3\n",
    "\n",
    "data_x = []\n",
    "data_y = []\n",
    "data_info = []\n",
    "lidx_list = []\n",
    "for label in labels:\n",
    "    lidx = labels_all.index(label)\n",
    "    lidx_list.append(lidx)\n",
    "    data_x.extend(data_x_all[data_y_all[:, lidx]==1])\n",
    "    data_y.extend(data_y_all[data_y_all[:, lidx]==1])\n",
    "    data_info.extend(data_info_all[data_y_all[:, lidx]==1])\n",
    "data_x = np.array(data_x)\n",
    "data_y = np.array(data_y)\n",
    "data_info = np.array(data_info)\n",
    "\n",
    "_, idx = np.unique(data_x, axis=0, return_index=True)\n",
    "data_x = data_x[np.sort(idx)]\n",
    "data_y = data_y[np.sort(idx)][:,lidx_list]\n",
    "data_info = data_info[np.sort(idx)]"
   ]
  },
  {
   "cell_type": "markdown",
   "metadata": {},
   "source": [
    "### PCA (Optional)"
   ]
  },
  {
   "cell_type": "code",
   "execution_count": 225,
   "metadata": {},
   "outputs": [
    {
     "data": {
      "text/plain": [
       "([<matplotlib.lines.Line2D at 0x1a6f1756d30>], 72, 2)"
      ]
     },
     "execution_count": 225,
     "metadata": {},
     "output_type": "execute_result"
    },
    {
     "data": {
      "image/png": "[encoded data removed]",
      "text/plain": [
       "<Figure size 432x288 with 1 Axes>"
      ]
     },
     "metadata": {
      "needs_background": "light"
     },
     "output_type": "display_data"
    }
   ],
   "source": [
    "pca = PCA()\n",
    "pca.fit(data_x)\n",
    "n_components = np.sum(np.cumsum(pca.explained_variance_ratio_) < 0.95)\n",
    "plt.plot(pca.explained_variance_ratio_[:n_components]), data_x.shape[1], n_components"
   ]
  },
  {
   "cell_type": "code",
   "execution_count": 226,
   "metadata": {},
   "outputs": [],
   "source": [
    "pca = PCA(n_components=n_components, whiten=False, svd_solver='full')\n",
    "data_x = pca.fit_transform(data_x)"
   ]
  },
  {
   "cell_type": "markdown",
   "metadata": {},
   "source": [
    "## Initializations"
   ]
  },
  {
   "cell_type": "code",
   "execution_count": 227,
   "metadata": {},
   "outputs": [],
   "source": [
    "def compute_d_p(X, centroids, p):\n",
    "    # If a 1-D array is provided, \n",
    "    # it will be reshaped to a single row 2-D array\n",
    "    if len(centroids.shape) == 1: \n",
    "        centroids = centroids.reshape((1,len(centroids)))\n",
    "    \n",
    "    n = len(X)\n",
    "    k = len(centroids)\n",
    "    \n",
    "    dists = np.zeros((n,k))\n",
    "    for i in range(n):\n",
    "        dists[i, :] = np.linalg.norm(X[i, :] - centroids, ord=p, axis=1) #**p\n",
    "\n",
    "    return dists"
   ]
  },
  {
   "cell_type": "code",
   "execution_count": 228,
   "metadata": {},
   "outputs": [],
   "source": [
    "n = data_x.shape[0] # no of data points\n",
    "m = data_x.shape[1] # no of feauters\n",
    "k = len(labels) # cluster size \n",
    "norm_p = 2\n",
    "algorithm = 'means' # means, medians, medoids"
   ]
  },
  {
   "cell_type": "code",
   "execution_count": 229,
   "metadata": {},
   "outputs": [],
   "source": [
    "kmeans = KMeans(n_clusters=k).fit(data_x)\n",
    "\n",
    "kmeans_dists = np.zeros((n))\n",
    "for i, pt in enumerate(data_x):\n",
    "    kmeans_dists[i] = np.linalg.norm(pt-kmeans.cluster_centers_[kmeans.labels_[i]])**2\n",
    "    \n",
    "kmeans_dists_mean = kmeans_dists.mean()\n",
    "kmeans_dists_std = kmeans_dists.std()\n",
    "kmeans_dists_thr = kmeans_dists_mean + 3*kmeans_dists_std\n",
    "kmeans_dists_outliers = [1 if d > kmeans_dists_thr else 0 for d in kmeans_dists]"
   ]
  },
  {
   "cell_type": "code",
   "execution_count": 231,
   "metadata": {},
   "outputs": [
    {
     "data": {
      "image/png": "[encoded data removed]",
      "text/plain": [
       "<Figure size 432x288 with 1 Axes>"
      ]
     },
     "metadata": {
      "needs_background": "light"
     },
     "output_type": "display_data"
    }
   ],
   "source": [
    "#seed(1)\n",
    "\n",
    "# k-medoids\n",
    "# samples = choice(len(data_x), size=k, replace=False)\n",
    "# centroids = medoids = data_x[samples, :]\n",
    "# centroids = medoids = initialize_kmeanspp(data_x, k, norm_p) \n",
    "\n",
    "\n",
    "# k-median\n",
    "#centroids = np.array([np.median(data_x, axis = 0) + np.random.normal(scale=data_x.std(axis = 0), size=m) for _ in range(k)]) # Assign m + normal distribution around s for each dimension.\n",
    "#centroids = np.array([np.median(data_x, axis = 0)+0.5*data_x.std(axis = 0)*(-1+l*2/(k-1)) for l in range(k)]) # Assign values from (m-s) to (m+s) with equal intervals for each dimension.\n",
    "\n",
    "# k-mean\n",
    "#centroids = np.array([data_x.mean(axis = 0) + np.random.normal(scale=data_x.std(axis = 0), size=m) for _ in range(k)]) # Assign m + normal distribution around s for each dimension.\n",
    "#centroids = np.array([data_x.mean(axis = 0)+data_x.std(axis = 0)*(-1+l*2/(k-1)) for l in range(k)]) # Assign values from (m-s) to (m+s) with equal intervals for each dimension.\n",
    "centroids = kmeans.cluster_centers_.copy()\n",
    "\n",
    "alpha = np.sqrt(k)-1\n",
    "beta = sum(kmeans_dists_outliers)/n\n",
    "sum_diff = 1\n",
    "\n",
    "if m == 2:\n",
    "    plot(data_x, centroids)"
   ]
  },
  {
   "cell_type": "markdown",
   "metadata": {},
   "source": [
    "## NEO-K-Ms"
   ]
  },
  {
   "cell_type": "code",
   "execution_count": 232,
   "metadata": {},
   "outputs": [
    {
     "name": "stdout",
     "output_type": "stream",
     "text": [
      "Diff (1): 794.928086\n",
      "Diff (2): 69.092522\n",
      "Diff (3): 16.641555\n",
      "Diff (4): 1.925869\n",
      "Diff (5): 1.190294\n",
      "Diff (6): 0.273447\n",
      "Diff (7): 0.032502\n",
      "Diff (8): 0.024857\n",
      "Diff (9): 0.000000\n"
     ]
    },
    {
     "data": {
      "image/png": "[encoded data removed]",
      "text/plain": [
       "<Figure size 432x288 with 1 Axes>"
      ]
     },
     "metadata": {
      "needs_background": "light"
     },
     "output_type": "display_data"
    }
   ],
   "source": [
    "for t in range(25):\n",
    "    old_centroids = centroids.copy()\n",
    "            \n",
    "    C_bar = [[] for _ in range(k)]\n",
    "    C_hat = [[] for _ in range(k)]\n",
    "    outliers = [i for i in range(n)]\n",
    "    T = []\n",
    "    S = []\n",
    "    \n",
    "    if algorithm == 'means':\n",
    "        dists = compute_d_p(data_x, centroids, 2)**2\n",
    "        #dists = np.array([[np.mean(np.linalg.norm(data_x[i] - data_x[C_all[j]], ord=2, axis=1)**2) for j in range(k)] for i in range(n)])\n",
    "    elif algorithm == 'medians':\n",
    "        dists = compute_d_p(data_x, centroids, 1)\n",
    "    else:\n",
    "        dists = compute_d_p(data_x, centroids, norm_p)\n",
    "            \n",
    "    dists_argsorted = dists.flatten().argsort()\n",
    "    p = 0\n",
    "    i = 0\n",
    "    while p < n-beta*n:\n",
    "        pt_ind = dists_argsorted[i]\n",
    "        if pt_ind//k not in S:\n",
    "            C_bar[pt_ind%k].append(pt_ind//k)\n",
    "            S.append(pt_ind//k)\n",
    "            T.append((pt_ind//k, pt_ind%k))\n",
    "            outliers.remove(pt_ind//k)\n",
    "            p += 1\n",
    "        i += 1\n",
    "    \n",
    "        \n",
    "    i = 0\n",
    "    while p < n+alpha*n:\n",
    "        pt_ind = dists_argsorted[i]\n",
    "        if (pt_ind//k, pt_ind%k) not in T:\n",
    "            C_hat[pt_ind%k].append(pt_ind//k)\n",
    "            T.append((pt_ind//k, pt_ind%k))\n",
    "            if pt_ind//k in outliers:\n",
    "                outliers.remove(pt_ind//k)\n",
    "            p += 1\n",
    "        i += 1\n",
    "        \n",
    "    C_all = [C_bar[i]+C_hat[i] for i in range(len(C_hat))]\n",
    "    \n",
    "    # Update Centroids \n",
    "    if algorithm == 'means':\n",
    "        for i in range(k):\n",
    "            centroids[i] = data_x[C_all[i]].mean(axis=0)\n",
    "        sum_diff = (np.linalg.norm(old_centroids-centroids, axis=1)**2).sum()\n",
    "\n",
    "        print(\"Diff (%d): %f\" % (t+1, sum_diff) )\n",
    "        if sum_diff < 0.01 or np.isnan(sum_diff):\n",
    "            break\n",
    "    \n",
    "    elif algorithm == 'medians':\n",
    "        for i in range(k):\n",
    "            centroids[i] = np.median(data_x[C_all[i]], axis=0) # k-medians\n",
    "        sum_diff = (np.linalg.norm(old_centroids-centroids, axis=1, ord=1)).sum() # k-medians\n",
    "\n",
    "        print(\"Diff (%d): %f\" % (t+1, sum_diff) )\n",
    "        if sum_diff < 0.01 or np.isnan(sum_diff):\n",
    "            break\n",
    "    \n",
    "    else:\n",
    "        print(\"Diff (%d): \" % (t+1), end='')\n",
    "        for i in range(k):\n",
    "            cluster_points = data_x[C_all[i]]\n",
    "            old_avg_dissimilarity = avg_dissimilarity = np.sum(compute_d_p(cluster_points, centroids[i], norm_p))\n",
    "\n",
    "            for datap in cluster_points:\n",
    "                new_dissimilarity= np.sum(compute_d_p(cluster_points, datap, norm_p))\n",
    "\n",
    "                if new_dissimilarity < avg_dissimilarity :\n",
    "                    avg_dissimilarity = new_dissimilarity\n",
    "                    centroids[i] = datap\n",
    "                    \n",
    "            print(\"%f \" % (old_avg_dissimilarity-avg_dissimilarity), end='')\n",
    "        print()\n",
    "        if (set([tuple(x) for x in old_centroids]) == set([tuple(x) for x in centroids])):\n",
    "            break\n",
    "            \n",
    "if m == 2:\n",
    "    plot(data_x, centroids)"
   ]
  },
  {
   "cell_type": "code",
   "execution_count": 234,
   "metadata": {},
   "outputs": [],
   "source": [
    "pred_y = [[0]*k for _ in range(n)]\n",
    "for i, C in enumerate(C_all):\n",
    "    for l in C:\n",
    "        pred_y[l][i] = 1\n",
    "pred_y = np.array(pred_y)"
   ]
  },
  {
   "cell_type": "code",
   "execution_count": 235,
   "metadata": {},
   "outputs": [
    {
     "name": "stdout",
     "output_type": "stream",
     "text": [
      "41.70552279483146\n"
     ]
    }
   ],
   "source": [
    "# Average F1\n",
    "# Overlapping Community Detection at Scale:A Nonnegative Matrix Factorization Approach\n",
    "\n",
    "# pred to ground-truth\n",
    "f1_score_ptog = 0\n",
    "for i in range(k):\n",
    "    f1_temp = np.array([f1_score(data_y[:,j], pred_y[:,i], average='binary') for j in range(k)])\n",
    "    f1_score_ptog += f1_temp.max()\n",
    "    #print(f1_temp.argmax(), f1_temp.max())\n",
    "\n",
    "#print(f1_score_ptog/k)\n",
    "#print()\n",
    "\n",
    "# ground-truth to pre\n",
    "f1_score_gtop = 0\n",
    "for i in range(k):\n",
    "    f1_temp = np.array([f1_score(data_y[:,i], pred_y[:,j], average='binary') for j in range(k)])\n",
    "    f1_score_gtop += f1_temp.max()\n",
    "    #print(f1_temp.argmax(), f1_temp.max())\n",
    "    \n",
    "#print(f1_score_gtop/k)\n",
    "#print()\n",
    "\n",
    "f1_average = (f1_score_ptog/k + f1_score_gtop/k)/2\n",
    "print(f1_average*100)"
   ]
  },
  {
   "cell_type": "code",
   "execution_count": 236,
   "metadata": {},
   "outputs": [
    {
     "name": "stdout",
     "output_type": "stream",
     "text": [
      "1.1996378302150348\n"
     ]
    }
   ],
   "source": [
    "# Average NMI\n",
    "\n",
    "# pred to ground-truth\n",
    "nmi_score_ptog = 0\n",
    "for i in range(k):\n",
    "    nmi_temp = np.array([normalized_mutual_info_score(data_y[:,j], pred_y[:,i], average_method='geometric') for j in range(k)])\n",
    "    nmi_score_ptog += nmi_temp.max()\n",
    "#     print(nmi_temp.argmax(), nmi_temp.max())\n",
    "\n",
    "# print(nmi_score_ptog/k)\n",
    "# print()\n",
    "\n",
    "# ground-truth to pre\n",
    "nmi_score_gtop = 0\n",
    "for i in range(k):\n",
    "    nmi_temp = np.array([normalized_mutual_info_score(data_y[:,i], pred_y[:,j], average_method='geometric') for j in range(k)])\n",
    "    nmi_score_gtop += nmi_temp.max()\n",
    "#     print(nmi_temp.argmax(), nmi_temp.max())\n",
    "    \n",
    "# print(nmi_score_gtop/k)\n",
    "# print()\n",
    "\n",
    "nmi_average = (nmi_score_ptog/k + nmi_score_gtop/k)/2\n",
    "print(nmi_average*100)"
   ]
  },
  {
   "cell_type": "code",
   "execution_count": 87,
   "metadata": {},
   "outputs": [
    {
     "data": {
      "text/plain": [
       "49.010821877742025"
      ]
     },
     "execution_count": 87,
     "metadata": {},
     "output_type": "execute_result"
    }
   ],
   "source": [
    "# Pairwise F1\n",
    "# Modelbased Overlapping Clustering \n",
    "\n",
    "pred_pairwise = [1 if (2 in pred_y[i] + pred_y[j]) else 0 for i in range(n) for j in range(i+1, n)]\n",
    "data_pairwise = [1 if (2 in data_y[i] + data_y[j]) else 0 for i in range(n) for j in range(i+1, n)]\n",
    "f1_score(data_pairwise, pred_pairwise, average='binary')*100"
   ]
  }
 ],
 "metadata": {
  "kernelspec": {
   "display_name": "Python [conda env:datathon]",
   "language": "python",
   "name": "conda-env-datathon-py"
  },
  "language_info": {
   "codemirror_mode": {
    "name": "ipython",
    "version": 3
   },
   "file_extension": ".py",
   "mimetype": "text/x-python",
   "name": "python",
   "nbconvert_exporter": "python",
   "pygments_lexer": "ipython3",
   "version": "3.7.3"
  }
 },
 "nbformat": 4,
 "nbformat_minor": 4
}
